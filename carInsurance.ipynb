{
 "cells": [
  {
   "cell_type": "markdown",
   "metadata": {},
   "source": [
    "Project Car Insurance\n",
    "\n",
    "Goal:- a car insurance calculation based on the following scenario\n",
    "\n",
    "Description\n",
    "-> Calculate yearly insurance price based on current market price of car\n",
    "-> Given market price market_price\n",
    "if gender is male :-\n",
    "  -age>26 9% insurance\n",
    "  -age<=26 23% insurance\n",
    "if gender is female\n",
    "  -sports car 21%\n",
    "  -non-sports car 10%"
   ]
  },
  {
   "cell_type": "code",
   "execution_count": 3,
   "metadata": {},
   "outputs": [
    {
     "name": "stdout",
     "output_type": "stream",
     "text": [
      "The insurance is Rs. 1000\n"
     ]
    }
   ],
   "source": [
    "market_price = int(input(\"Enter the market price of Car:- \"))\n",
    "gender = input(\"Enter the Gender\")\n",
    "percentage = 0\n",
    "if(gender == 'm'):\n",
    "    age = int(input(\"Enter your age:-\"))\n",
    "    if(age>26):\n",
    "        percentage=9\n",
    "    else:\n",
    "        percentage=23    \n",
    "elif(gender==\"f\"):\n",
    "    sports = input(\"Is it a sports car?\")\n",
    "    if(sports==\"yes\"):\n",
    "        percentage=21\n",
    "    elif(sports==\"no\"):\n",
    "        percentage=10    \n",
    "insurance = (percentage * market_price)/100\n",
    "print(\"The insurance is Rs.\",int(insurance))   "
   ]
  }
 ],
 "metadata": {
  "kernelspec": {
   "display_name": "Python 3",
   "language": "python",
   "name": "python3"
  },
  "language_info": {
   "codemirror_mode": {
    "name": "ipython",
    "version": 3
   },
   "file_extension": ".py",
   "mimetype": "text/x-python",
   "name": "python",
   "nbconvert_exporter": "python",
   "pygments_lexer": "ipython3",
   "version": "3.12.4"
  }
 },
 "nbformat": 4,
 "nbformat_minor": 2
}
