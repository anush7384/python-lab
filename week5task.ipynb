{
 "cells": [
  {
   "cell_type": "code",
   "execution_count": 1,
   "metadata": {},
   "outputs": [
    {
     "name": "stdout",
     "output_type": "stream",
     "text": [
      "Current items in cart:\n",
      "Orange - 100\n",
      "Lemon - 10\n",
      "Apple - 50\n",
      "Watermelon - 30\n",
      "Total Value of your cart: 190\n",
      "\n",
      "Current items in cart:\n",
      "Lemon - 10\n",
      "Apple - 50\n",
      "Watermelon - 30\n",
      "Total Value of your cart: 90\n",
      "\n"
     ]
    }
   ],
   "source": [
    "class ShoppingCart:\n",
    "    def __init__(self):\n",
    "        self.cart = {}\n",
    "\n",
    "    def add_item(self, item, price):\n",
    "        self.cart[item] = price\n",
    "\n",
    "    def remove_item(self, item):\n",
    "        if item in self.cart:\n",
    "            del self.cart[item]\n",
    "        else:\n",
    "            print(f\"{item} not found in cart!\")\n",
    "\n",
    "    def calculate_total(self):\n",
    "        return sum(self.cart.values())\n",
    "\n",
    "    def display_cart(self):\n",
    "        if not self.cart:\n",
    "            print(\"Your cart is empty.\")\n",
    "        else:\n",
    "            print(\"Current items in cart:\")\n",
    "            for item, price in self.cart.items():\n",
    "                print(f\"{item} - {price}\")\n",
    "            print(f\"Total Value of your cart: {self.calculate_total()}\\n\")\n",
    "\n",
    "\n",
    "cart = ShoppingCart()\n",
    "cart.add_item('Orange', 100)\n",
    "cart.add_item('Lemon', 10)\n",
    "cart.add_item('Apple', 50)\n",
    "cart.add_item('Watermelon', 30)\n",
    "cart.display_cart()\n",
    "\n",
    "cart.remove_item('Orange')\n",
    "cart.display_cart()\n"
   ]
  }
 ],
 "metadata": {
  "kernelspec": {
   "display_name": "Python 3",
   "language": "python",
   "name": "python3"
  },
  "language_info": {
   "codemirror_mode": {
    "name": "ipython",
    "version": 3
   },
   "file_extension": ".py",
   "mimetype": "text/x-python",
   "name": "python",
   "nbconvert_exporter": "python",
   "pygments_lexer": "ipython3",
   "version": "3.12.4"
  }
 },
 "nbformat": 4,
 "nbformat_minor": 2
}
