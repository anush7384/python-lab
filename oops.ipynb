{
 "cells": [
  {
   "cell_type": "code",
   "execution_count": 1,
   "metadata": {},
   "outputs": [
    {
     "name": "stdout",
     "output_type": "stream",
     "text": [
      "Anush Rawat\n",
      "35000\n"
     ]
    }
   ],
   "source": [
    "#Create a class\n",
    "class Employee: #name of class starts from capital letter\n",
    "    pass \n",
    "#Create instance of the class\n",
    "emp_1 = Employee()\n",
    "#Take input\n",
    "name = input(\"Enter your name: \")\n",
    "#Assign name to the first instance \n",
    "emp_1.name = name\n",
    "#Assign salary to the first instance\n",
    "emp_1.salary = 35000\n",
    "#Print\n",
    "print(emp_1.name)\n",
    "print(emp_1.salary)"
   ]
  },
  {
   "cell_type": "code",
   "execution_count": 2,
   "metadata": {},
   "outputs": [
    {
     "data": {
      "text/plain": [
       "__main__.Employee"
      ]
     },
     "execution_count": 2,
     "metadata": {},
     "output_type": "execute_result"
    }
   ],
   "source": [
    "type(emp_1)"
   ]
  },
  {
   "cell_type": "code",
   "execution_count": 3,
   "metadata": {},
   "outputs": [
    {
     "data": {
      "text/plain": [
       "int"
      ]
     },
     "execution_count": 3,
     "metadata": {},
     "output_type": "execute_result"
    }
   ],
   "source": [
    "type(emp_1.salary)"
   ]
  },
  {
   "cell_type": "code",
   "execution_count": 5,
   "metadata": {},
   "outputs": [
    {
     "name": "stdout",
     "output_type": "stream",
     "text": [
      "<class 'int'>\n"
     ]
    }
   ],
   "source": [
    "a = 20\n",
    "print(type(a))"
   ]
  },
  {
   "cell_type": "code",
   "execution_count": 7,
   "metadata": {},
   "outputs": [],
   "source": [
    "#self is not a keyword\n",
    "# self is a variable not a keyword"
   ]
  },
  {
   "cell_type": "code",
   "execution_count": 9,
   "metadata": {},
   "outputs": [
    {
     "name": "stdout",
     "output_type": "stream",
     "text": [
      "Raj\n",
      "cse\n",
      "152038\n"
     ]
    }
   ],
   "source": [
    "#Self\n",
    "class Manager:\n",
    "    def __init__(self, name, department, salary):\n",
    "        self.name = name\n",
    "        self.department = department\n",
    "        self.salary = salary\n",
    "\n",
    "#input from user\n",
    "name = input(\"Enter your name\")\n",
    "department = input(\"Enter your department\")\n",
    "salary = int(input(\"Enter your salary\"))\n",
    "\n",
    "manager_1 = Manager(name,department,salary)\n",
    "print(manager_1.name)\n",
    "print(manager_1.department)\n",
    "print(manager_1.salary)"
   ]
  },
  {
   "cell_type": "code",
   "execution_count": 12,
   "metadata": {},
   "outputs": [
    {
     "name": "stdout",
     "output_type": "stream",
     "text": [
      "naeim\n",
      "21\n",
      "ayush\n",
      "33\n"
     ]
    }
   ],
   "source": [
    "class Car:\n",
    "    def __init__(self,name,age):\n",
    "        self.name=name\n",
    "        self.age=age\n",
    "\n",
    "name=input(\"Enter the name\")\n",
    "age=input(\"Enter the age\")\n",
    "s1=Car(name,age)\n",
    "print(s1.name)\n",
    "print(s1.age)\n",
    "name=input(\"Enter the name\")\n",
    "age=input(\"Enter the age\")\n",
    "s2=Car(name,age)\n",
    "print(s2.name)\n",
    "print(s2.age)"
   ]
  },
  {
   "cell_type": "code",
   "execution_count": null,
   "metadata": {},
   "outputs": [],
   "source": [
    "#python doesnt support constructor overloading"
   ]
  },
  {
   "cell_type": "code",
   "execution_count": null,
   "metadata": {},
   "outputs": [],
   "source": [
    "#Define Student class\n",
    "# 2 object s1 s2 \n",
    "#name age variables``"
   ]
  }
 ],
 "metadata": {
  "kernelspec": {
   "display_name": "Python 3",
   "language": "python",
   "name": "python3"
  },
  "language_info": {
   "codemirror_mode": {
    "name": "ipython",
    "version": 3
   },
   "file_extension": ".py",
   "mimetype": "text/x-python",
   "name": "python",
   "nbconvert_exporter": "python",
   "pygments_lexer": "ipython3",
   "version": "3.12.4"
  }
 },
 "nbformat": 4,
 "nbformat_minor": 2
}
