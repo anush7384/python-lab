{
 "cells": [
  {
   "cell_type": "code",
   "execution_count": 3,
   "metadata": {},
   "outputs": [
    {
     "name": "stdout",
     "output_type": "stream",
     "text": [
      "Raised under user defined exception\n",
      "b should be greater than 0\n"
     ]
    }
   ],
   "source": [
    "class OurException(Exception):\n",
    "    def __init__(self,message):\n",
    "        self.message = message \n",
    "\n",
    "class UsingUserException:\n",
    "    try:\n",
    "        a = int(input(\"Enter A : \"))\n",
    "        b = int(input(\"Enter B :\"))\n",
    "        if b == 0:\n",
    "            raise OurException(\"b should be greater than 0\")\n",
    "        d = a/b\n",
    "        print(f\" operation Successful {d}\")\n",
    "    except OurException as err:\n",
    "        print(\"Raised under user defined exception\")\n",
    "        print(err.message)"
   ]
  }
 ],
 "metadata": {
  "kernelspec": {
   "display_name": "Python 3",
   "language": "python",
   "name": "python3"
  },
  "language_info": {
   "codemirror_mode": {
    "name": "ipython",
    "version": 3
   },
   "file_extension": ".py",
   "mimetype": "text/x-python",
   "name": "python",
   "nbconvert_exporter": "python",
   "pygments_lexer": "ipython3",
   "version": "3.12.4"
  }
 },
 "nbformat": 4,
 "nbformat_minor": 2
}
