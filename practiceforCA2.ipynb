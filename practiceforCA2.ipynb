{
 "cells": [
  {
   "cell_type": "code",
   "execution_count": 3,
   "metadata": {},
   "outputs": [
    {
     "name": "stdout",
     "output_type": "stream",
     "text": [
      "The sum  is  119\n",
      "[1, 2, 9, 11, 14, 31, 51]\n"
     ]
    }
   ],
   "source": [
    "# create a list and append two elements in it. \n",
    "list = [11,2,31,9,14,51]\n",
    "list.append(1)\n",
    "list.sort()\n",
    "sum = 0\n",
    "for num in list:\n",
    "    sum = sum + num \n",
    "print(\"The sum  is \",sum)\n",
    "print(list)"
   ]
  },
  {
   "cell_type": "code",
   "execution_count": 9,
   "metadata": {},
   "outputs": [
    {
     "name": "stdout",
     "output_type": "stream",
     "text": [
      "Count of 111 is 3\n",
      "Count of 123 is 3\n",
      "Count of 1 is 1\n",
      "Count of 9920 is 4\n"
     ]
    }
   ],
   "source": [
    "list1 = [111,123,1,9920]\n",
    "for num in list1:\n",
    "    # print(\"Num is \",num)\n",
    "    temp = num\n",
    "    count = 0\n",
    "    # print(\"Entering\")\n",
    "    while (temp!= 0):\n",
    "        temp = temp // 10\n",
    "        count = count + 1\n",
    "        # print(\"temp is \",temp)\n",
    "        # print(\"Count is \",count)\n",
    "    print(f\"Count of {num} is {count}\")"
   ]
  }
 ],
 "metadata": {
  "kernelspec": {
   "display_name": "Python 3",
   "language": "python",
   "name": "python3"
  },
  "language_info": {
   "codemirror_mode": {
    "name": "ipython",
    "version": 3
   },
   "file_extension": ".py",
   "mimetype": "text/x-python",
   "name": "python",
   "nbconvert_exporter": "python",
   "pygments_lexer": "ipython3",
   "version": "3.12.4"
  }
 },
 "nbformat": 4,
 "nbformat_minor": 2
}
