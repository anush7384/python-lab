{
 "cells": [
  {
   "cell_type": "code",
   "execution_count": 2,
   "metadata": {},
   "outputs": [],
   "source": [
    "dict = {'a':1,'b':2,'c':3,'d':4,'f':6}"
   ]
  },
  {
   "cell_type": "code",
   "execution_count": 6,
   "metadata": {},
   "outputs": [
    {
     "name": "stdout",
     "output_type": "stream",
     "text": [
      "{'a': 'a', 'b': 'b', 'c': 'c', 'd': 'd', 'f': 'f'}\n"
     ]
    }
   ],
   "source": [
    "for key in dict.keys():\n",
    "    dict[key] = key\n",
    "\n",
    "print(dict)"
   ]
  },
  {
   "cell_type": "code",
   "execution_count": 8,
   "metadata": {},
   "outputs": [],
   "source": [
    "del(dict['f'])"
   ]
  },
  {
   "cell_type": "code",
   "execution_count": 9,
   "metadata": {},
   "outputs": [
    {
     "data": {
      "text/plain": [
       "{'a': 'a', 'b': 'b', 'c': 'c', 'd': 'd'}"
      ]
     },
     "execution_count": 9,
     "metadata": {},
     "output_type": "execute_result"
    }
   ],
   "source": [
    "dict"
   ]
  },
  {
   "cell_type": "code",
   "execution_count": 11,
   "metadata": {},
   "outputs": [
    {
     "name": "stdout",
     "output_type": "stream",
     "text": [
      "{'a': 1, 'b': 2, 'c': 3, 'd': 4}\n"
     ]
    }
   ],
   "source": [
    "i = 1\n",
    "for key in dict.keys():\n",
    "    dict[key] = i\n",
    "    i = i + 1\n",
    "\n",
    "print(dict)"
   ]
  },
  {
   "cell_type": "code",
   "execution_count": 13,
   "metadata": {},
   "outputs": [
    {
     "name": "stdout",
     "output_type": "stream",
     "text": [
      "dict_values([1, 2, 3, 4])\n"
     ]
    }
   ],
   "source": [
    "print(dict.values())\n"
   ]
  },
  {
   "cell_type": "code",
   "execution_count": 14,
   "metadata": {},
   "outputs": [
    {
     "name": "stdout",
     "output_type": "stream",
     "text": [
      "dict_items([('a', 1), ('b', 2), ('c', 3), ('d', 4)])\n"
     ]
    }
   ],
   "source": [
    "print(dict.items())"
   ]
  },
  {
   "cell_type": "code",
   "execution_count": 16,
   "metadata": {},
   "outputs": [],
   "source": [
    "#because dictionaries are mutable\n",
    "# whenever 2 variables refer to same object, changes to one affect the other\n",
    "alias = dict # here the alias refers to the same address that dict refers to \n",
    "copy = dict.copy()"
   ]
  },
  {
   "cell_type": "code",
   "execution_count": 17,
   "metadata": {},
   "outputs": [
    {
     "name": "stdout",
     "output_type": "stream",
     "text": [
      "{'a': 1, 'b': 2, 'c': 3, 'd': 5}\n"
     ]
    }
   ],
   "source": [
    "alias['d'] = 5\n",
    "print(dict) # here the dict gets updated because of the reference to same address"
   ]
  },
  {
   "cell_type": "code",
   "execution_count": 18,
   "metadata": {},
   "outputs": [
    {
     "name": "stdout",
     "output_type": "stream",
     "text": [
      "{'a': 1, 'b': 2, 'c': 3, 'd': 5}\n"
     ]
    }
   ],
   "source": [
    "copy['d'] = 100\n",
    "print(dict)  # no update because copy has the copy of dictionary not reference to the same address"
   ]
  },
  {
   "cell_type": "code",
   "execution_count": 21,
   "metadata": {},
   "outputs": [
    {
     "name": "stdout",
     "output_type": "stream",
     "text": [
      "2\n"
     ]
    }
   ],
   "source": [
    "#sparse matrix is the matrix which has majority of elements as zero \n",
    "#so to represent it we can use dictionary\n",
    "matrix = {(0,3):1,(2,1):2,(4,3):3}\n",
    "\n",
    "#to access any \n",
    "print(matrix[2,1])"
   ]
  },
  {
   "cell_type": "code",
   "execution_count": 22,
   "metadata": {},
   "outputs": [
    {
     "data": {
      "text/plain": [
       "0"
      ]
     },
     "execution_count": 22,
     "metadata": {},
     "output_type": "execute_result"
    }
   ],
   "source": [
    "#but let's suppose we access an element that is 0\n",
    "# so for that use get function of dictionary\n",
    "\n",
    "matrix.get((0,0),0) # this will return value of 0,0 key if it exists. if not then 0 will be returned"
   ]
  },
  {
   "cell_type": "code",
   "execution_count": 26,
   "metadata": {},
   "outputs": [
    {
     "name": "stdout",
     "output_type": "stream",
     "text": [
      "{'M': 1, 'i': 4, 's': 4, 'p': 2}\n"
     ]
    }
   ],
   "source": [
    "#counting letters in a word using dictionary\n",
    "\n",
    "word = \"Mississippi\"\n",
    "count_of_letters = {}\n",
    "for letter in word:\n",
    "    count_of_letters[letter] = count_of_letters.get(letter,0) + 1\n",
    "\n",
    "print(count_of_letters)"
   ]
  },
  {
   "cell_type": "code",
   "execution_count": 30,
   "metadata": {},
   "outputs": [
    {
     "ename": "AttributeError",
     "evalue": "'dict_items' object has no attribute 'sort'",
     "output_type": "error",
     "traceback": [
      "\u001b[1;31m---------------------------------------------------------------------------\u001b[0m",
      "\u001b[1;31mAttributeError\u001b[0m                            Traceback (most recent call last)",
      "Cell \u001b[1;32mIn[30], line 2\u001b[0m\n\u001b[0;32m      1\u001b[0m letterItems \u001b[38;5;241m=\u001b[39m count_of_letters\u001b[38;5;241m.\u001b[39mitems()\n\u001b[1;32m----> 2\u001b[0m \u001b[43mletterItems\u001b[49m\u001b[38;5;241;43m.\u001b[39;49m\u001b[43msort\u001b[49m()\n\u001b[0;32m      4\u001b[0m \u001b[38;5;28mprint\u001b[39m(letterItems)\n",
      "\u001b[1;31mAttributeError\u001b[0m: 'dict_items' object has no attribute 'sort'"
     ]
    }
   ],
   "source": [
    "letterItems = count_of_letters.items()\n",
    "letterItems.sort()\n",
    "\n",
    "print(letterItems)"
   ]
  },
  {
   "cell_type": "code",
   "execution_count": 33,
   "metadata": {},
   "outputs": [
    {
     "name": "stdout",
     "output_type": "stream",
     "text": [
      "{'a': 1, 'b': 2, 'c': 3}\n"
     ]
    }
   ],
   "source": [
    "for key,value in dict.items():\n",
    "    if(value == 5):\n",
    "        del(dict[key])\n",
    "\n",
    "print(dict)"
   ]
  },
  {
   "cell_type": "code",
   "execution_count": 34,
   "metadata": {},
   "outputs": [],
   "source": [
    "dict['d'] = 4\n",
    "dict['e'] = 5\n",
    "dict['f'] = 6"
   ]
  },
  {
   "cell_type": "code",
   "execution_count": 35,
   "metadata": {},
   "outputs": [],
   "source": [
    "if 'f' in dict:\n",
    "    del(dict['f'])"
   ]
  },
  {
   "cell_type": "code",
   "execution_count": 36,
   "metadata": {},
   "outputs": [
    {
     "data": {
      "text/plain": [
       "{'a': 1, 'b': 2, 'c': 3, 'd': 4, 'e': 5}"
      ]
     },
     "execution_count": 36,
     "metadata": {},
     "output_type": "execute_result"
    }
   ],
   "source": [
    "dict"
   ]
  },
  {
   "cell_type": "code",
   "execution_count": 37,
   "metadata": {},
   "outputs": [
    {
     "name": "stdout",
     "output_type": "stream",
     "text": [
      "M : 1\n",
      "i : 4\n",
      "p : 2\n",
      "s : 4\n"
     ]
    }
   ],
   "source": [
    "for key in sorted(count_of_letters):\n",
    "    print(key,\":\",count_of_letters[key])"
   ]
  },
  {
   "cell_type": "code",
   "execution_count": 38,
   "metadata": {},
   "outputs": [
    {
     "name": "stdout",
     "output_type": "stream",
     "text": [
      "MAX value, 601  Predicted  601\n",
      "MIN value, 33  Predicted  33\n"
     ]
    }
   ],
   "source": [
    "dict1 = {'a':100,'b':599,'c':1,'d':101,'e':601,'f':33}\n",
    "maxKey = \"\"\n",
    "minValue = 999\n",
    "maxValue = 0\n",
    "minKey = \"\"\n",
    "for key, value in dict1.items():\n",
    "    if(value > maxValue):\n",
    "        maxValue = value \n",
    "        maxKey = key\n",
    "    else:\n",
    "        minValue = value \n",
    "        minKey = key\n",
    "\n",
    "print(\"MAX value,\",dict1[maxKey],\" Predicted \",maxValue)\n",
    "print(\"MIN value,\",dict1[minKey],\" Predicted \",minValue)"
   ]
  },
  {
   "cell_type": "code",
   "execution_count": 39,
   "metadata": {},
   "outputs": [
    {
     "name": "stdout",
     "output_type": "stream",
     "text": [
      "banana\n"
     ]
    }
   ],
   "source": [
    "s = \"banana\"\n",
    "print(s[:])"
   ]
  },
  {
   "cell_type": "code",
   "execution_count": 41,
   "metadata": {},
   "outputs": [
    {
     "data": {
      "text/plain": [
       "False"
      ]
     },
     "execution_count": 41,
     "metadata": {},
     "output_type": "execute_result"
    }
   ],
   "source": [
    "s.isupper()"
   ]
  },
  {
   "cell_type": "code",
   "execution_count": 42,
   "metadata": {},
   "outputs": [
    {
     "name": "stdout",
     "output_type": "stream",
     "text": [
      "My name IS Anush Rawat\n"
     ]
    }
   ],
   "source": [
    "str = input(\"Enter the string\")\n",
    "substring = input(\"Enter the substring\")\n",
    "\n",
    "resString = str.replace(substring,substring.upper())\n",
    "print(resString)"
   ]
  }
 ],
 "metadata": {
  "kernelspec": {
   "display_name": "Python 3",
   "language": "python",
   "name": "python3"
  },
  "language_info": {
   "codemirror_mode": {
    "name": "ipython",
    "version": 3
   },
   "file_extension": ".py",
   "mimetype": "text/x-python",
   "name": "python",
   "nbconvert_exporter": "python",
   "pygments_lexer": "ipython3",
   "version": "3.12.4"
  }
 },
 "nbformat": 4,
 "nbformat_minor": 2
}
