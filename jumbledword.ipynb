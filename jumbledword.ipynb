{
 "cells": [
  {
   "cell_type": "code",
   "execution_count": 7,
   "metadata": {},
   "outputs": [],
   "source": [
    "import random"
   ]
  },
  {
   "cell_type": "code",
   "execution_count": 8,
   "metadata": {},
   "outputs": [
    {
     "name": "stdout",
     "output_type": "stream",
     "text": [
      "The randomly selected word is  scnieec\n"
     ]
    }
   ],
   "source": [
    "words = ['father', 'enterprise', 'science', 'programming', 'resistance', 'fiction']\n",
    "\n",
    "word = random.choice(words)\n",
    "\n",
    "jumble = ''.join(random.sample(word, len(word)))\n",
    "\n",
    "print(\"The randomly selected word is \",jumble)\n"
   ]
  },
  {
   "cell_type": "code",
   "execution_count": 9,
   "metadata": {},
   "outputs": [
    {
     "name": "stdout",
     "output_type": "stream",
     "text": [
      "Incorrect: The word is science\n"
     ]
    }
   ],
   "source": [
    "guess = input(\"Enter your guess\")\n",
    "\n",
    "if guess == word:\n",
    "    print(\"Correct\")\n",
    "else:\n",
    "    print(f\"Incorrect: The word is {word}\")"
   ]
  }
 ],
 "metadata": {
  "kernelspec": {
   "display_name": "Python 3",
   "language": "python",
   "name": "python3"
  },
  "language_info": {
   "codemirror_mode": {
    "name": "ipython",
    "version": 3
   },
   "file_extension": ".py",
   "mimetype": "text/x-python",
   "name": "python",
   "nbconvert_exporter": "python",
   "pygments_lexer": "ipython3",
   "version": "3.12.4"
  }
 },
 "nbformat": 4,
 "nbformat_minor": 2
}
