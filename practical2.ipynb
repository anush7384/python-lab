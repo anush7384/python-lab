{
 "cells": [
  {
   "cell_type": "markdown",
   "metadata": {},
   "source": [
    "1) Write a program to prompt the user for hours and rate per hour to compute the gross pay"
   ]
  },
  {
   "cell_type": "code",
   "execution_count": 4,
   "metadata": {},
   "outputs": [
    {
     "name": "stdout",
     "output_type": "stream",
     "text": [
      "The gross pay of the worker is 1250\n"
     ]
    }
   ],
   "source": [
    "hour = float(input(\"Enter the no. of hours you have worked!\"))\n",
    "rate = float(input(\"Enter the hourly rate\"))\n",
    "wage = hour * rate\n",
    "print(f\"The gross pay of the worker is {hour*rate}\")"
   ]
  },
  {
   "cell_type": "markdown",
   "metadata": {},
   "source": [
    "Conditional Steps\n",
    "6 comparison operators\n",
    "<, <=, ==, >=, >, !=\n",
    "= is used for assignment whereas == is used for checking equality"
   ]
  },
  {
   "cell_type": "markdown",
   "metadata": {},
   "source": [
    "2) Rewrite your pay computation to give the employee 1.5 times the hourly rate for hours worked above 40 hours"
   ]
  },
  {
   "cell_type": "code",
   "execution_count": 5,
   "metadata": {},
   "outputs": [
    {
     "name": "stdout",
     "output_type": "stream",
     "text": [
      "The gross pay of the worker is  475.0\n"
     ]
    }
   ],
   "source": [
    "hour = float(input(\"Enter the no. of hours you have worked!\"))\n",
    "rate = float(input(\"Enter the hourly rate\"))\n",
    "if(hour <= 40):\n",
    "    wage = hour * rate\n",
    "else:    \n",
    "    wage = (40 * rate) + (hour-40)*1.5*rate\n",
    "print(\"The gross pay of the worker is \",wage)"
   ]
  },
  {
   "cell_type": "code",
   "execution_count": 7,
   "metadata": {},
   "outputs": [
    {
     "name": "stdout",
     "output_type": "stream",
     "text": [
      "Enter number in digits\n"
     ]
    }
   ],
   "source": [
    "try:\n",
    "    hour = float(input(\"Enter the no. of hours you have worked!\"))\n",
    "    rate = float(input(\"Enter the hourly rate\"))\n",
    "    if(hour <= 40):\n",
    "        wage = hour * rate\n",
    "    else:    \n",
    "        wage = (40 * rate) + (hour-40)*1.5*rate\n",
    "    print(\"The gross pay of the worker is \",wage)\n",
    "\n",
    "except:\n",
    "    print('Enter number in digits')"
   ]
  }
 ],
 "metadata": {
  "kernelspec": {
   "display_name": "Python 3",
   "language": "python",
   "name": "python3"
  },
  "language_info": {
   "codemirror_mode": {
    "name": "ipython",
    "version": 3
   },
   "file_extension": ".py",
   "mimetype": "text/x-python",
   "name": "python",
   "nbconvert_exporter": "python",
   "pygments_lexer": "ipython3",
   "version": "3.12.4"
  }
 },
 "nbformat": 4,
 "nbformat_minor": 2
}
