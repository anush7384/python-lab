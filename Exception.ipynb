{
 "cells": [
  {
   "cell_type": "markdown",
   "metadata": {},
   "source": [
    "Zero Division Error\n"
   ]
  },
  {
   "cell_type": "code",
   "execution_count": 4,
   "metadata": {},
   "outputs": [
    {
     "name": "stdout",
     "output_type": "stream",
     "text": [
      "Kidly Enter non zero value of b\n"
     ]
    }
   ],
   "source": [
    "try:\n",
    "    a = int(input(\"Enter 1st number (a) : \"))\n",
    "    b = int(input(\"Enter 2nd number (b) :\"))\n",
    "    div = a / b\n",
    "    print(div)\n",
    "except:\n",
    "    print(\"Kindly Enter non zero value of b\")"
   ]
  },
  {
   "cell_type": "markdown",
   "metadata": {},
   "source": [
    "Zero Division Error and Value Error at same time "
   ]
  },
  {
   "cell_type": "code",
   "execution_count": 5,
   "metadata": {},
   "outputs": [
    {
     "name": "stdout",
     "output_type": "stream",
     "text": [
      "Invalid input kindly enter integer value\n"
     ]
    }
   ],
   "source": [
    "try:\n",
    "    a = int(input(\"Enter 1st number (a) : \"))\n",
    "    b = int(input(\"Enter 2nd number (b) :\"))\n",
    "    div = a / b\n",
    "    print(div)\n",
    "except ZeroDivisionError:\n",
    "    print(\"Kidly Enter non zero value of b\")\n",
    "except ValueError:\n",
    "    print(\"Invalid input kindly enter integer value\")"
   ]
  },
  {
   "cell_type": "markdown",
   "metadata": {},
   "source": [
    "Nested Try Except"
   ]
  },
  {
   "cell_type": "markdown",
   "metadata": {},
   "source": [
    "Build a python program on nested try-except block.\n",
    "\n",
    "Write program that repeatedly asks for a whole number input, handling exceptions and allowing users to retry or exit based on their choices.\n",
    "Firstly, used a while loop to keep prompting the user until they enter a valid whole number.\n",
    "Inside the loop, used a try block to attempt to convert the user's input to an integer.\n",
    "If the conversion raises a ValueError, print \"you must enter a whole number!\" and proceed to ask if the user wants to try again (y/n)?.\n",
    "If the user enters \"y\" (yes), the program should continue the loop.\n",
    "If the user enters \"n\" (no), or if they enter anything other than \"y\", the program should print \"ok, see you next time!\" and exit the loop.\n",
    "If the user interrupts the program with a keyboard interrupt (CTRL+C), catch the KeyboardInterrupt exception, print \"You pressed Ctrl+C! See you next time!\" and exit the loop."
   ]
  },
  {
   "cell_type": "code",
   "execution_count": 19,
   "metadata": {},
   "outputs": [
    {
     "name": "stdout",
     "output_type": "stream",
     "text": [
      "You entered 2 number\n"
     ]
    }
   ],
   "source": [
    "def get_whole_number():\n",
    "    while True:\n",
    "        try:\n",
    "            user_input = input(\"Please enter a whole number: \")\n",
    "            try:\n",
    "                number = int(user_input)\n",
    "                print(f\"You entered {number} number\")\n",
    "                break\n",
    "            except ValueError:\n",
    "                print(\"Enter a whole number!\")\n",
    "                retry = input(\"Do you want to try again? (y/n): \").strip().lower()\n",
    "                if retry != 'y':\n",
    "                    print(\"Ok, see you next time!\")\n",
    "                    break\n",
    "        except KeyboardInterrupt:\n",
    "            print(\"\\nYou pressed Ctrl+C! See you next time!\")\n",
    "            break\n",
    "\n",
    "get_whole_number()"
   ]
  },
  {
   "cell_type": "code",
   "execution_count": 16,
   "metadata": {},
   "outputs": [
    {
     "name": "stdout",
     "output_type": "stream",
     "text": [
      "Exception occured\n",
      "Exceuted in any condition\n"
     ]
    }
   ],
   "source": [
    "# Try Except Finally\n",
    "\n",
    "try:\n",
    "    a = int(input(\"Enter 1st number: \"))\n",
    "    b = int(input(\"Enter 2nd number: \"))\n",
    "    c = a+b \n",
    "    d = a/b \n",
    "    print(\"try successfully\")\n",
    "except ArithmeticError:\n",
    "    print(\"Arithmetic Error Occured\")\n",
    "except Exception:\n",
    "    print(\"Exception occured\")\n",
    "finally:\n",
    "    print(\"Exceuted in any condition\")"
   ]
  },
  {
   "cell_type": "code",
   "execution_count": 22,
   "metadata": {},
   "outputs": [
    {
     "name": "stdout",
     "output_type": "stream",
     "text": [
      "Age cannot be less than zero\n",
      "exceuted in any condition\n"
     ]
    }
   ],
   "source": [
    "# With the help of raise keyword we can raise errors\n",
    "try:\n",
    "    age = int(input(\"Enter your age\"))\n",
    "    if age < 0:\n",
    "        raise ValueError\n",
    "    print(f\"Age when doubled is {age*2}\")\n",
    "except ValueError:\n",
    "    print(\"Age cannot be less than zero\")\n",
    "finally:\n",
    "    print(\"exceuted in any condition\")\n"
   ]
  }
 ],
 "metadata": {
  "kernelspec": {
   "display_name": "Python 3",
   "language": "python",
   "name": "python3"
  },
  "language_info": {
   "codemirror_mode": {
    "name": "ipython",
    "version": 3
   },
   "file_extension": ".py",
   "mimetype": "text/x-python",
   "name": "python",
   "nbconvert_exporter": "python",
   "pygments_lexer": "ipython3",
   "version": "3.12.4"
  }
 },
 "nbformat": 4,
 "nbformat_minor": 2
}
