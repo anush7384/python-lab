{
 "cells": [
  {
   "cell_type": "code",
   "execution_count": null,
   "metadata": {},
   "outputs": [],
   "source": [
    "# while loop basic functioning\n",
    "n = 5\n",
    "print(\"going inside while loop\")\n",
    "while n>0:\n",
    "    print(n)\n",
    "    n = n-1\n",
    "print('outside while loop')\n",
    "print(n)"
   ]
  },
  {
   "cell_type": "code",
   "execution_count": null,
   "metadata": {},
   "outputs": [],
   "source": [
    "#infinite loop\n",
    "n=5\n",
    "while n>0 :\n",
    "    print(n)\n",
    "print(\"Dry off\")    "
   ]
  },
  {
   "cell_type": "code",
   "execution_count": null,
   "metadata": {},
   "outputs": [],
   "source": [
    "#break loop\n",
    "while True:\n",
    "    line = input('> ')\n",
    "    if line == \"done\":\n",
    "        break\n",
    "    print(line)\n",
    "print('DONE!')"
   ]
  },
  {
   "cell_type": "code",
   "execution_count": null,
   "metadata": {},
   "outputs": [],
   "source": [
    "#continue statement\n",
    "#skips the current iteration and starts next iteration\n",
    "n = 0\n",
    "while n < 10:\n",
    "    n = n+1\n",
    "    if(n%2 == 0):\n",
    "        continue\n",
    "    print(n)\n",
    "print(\"done\")"
   ]
  },
  {
   "cell_type": "markdown",
   "metadata": {},
   "source": [
    "Definite loop :- which executes for a fixed no of iterations\n",
    "Indefinite loop:- whose iterations is not fixed"
   ]
  },
  {
   "cell_type": "code",
   "execution_count": null,
   "metadata": {},
   "outputs": [],
   "source": [
    "#for loop\n",
    "for i in [5,4,3,2,1]:\n",
    "    print(i)\n",
    "print(\"End of Loop\")"
   ]
  },
  {
   "cell_type": "code",
   "execution_count": 15,
   "metadata": {},
   "outputs": [
    {
     "name": "stdout",
     "output_type": "stream",
     "text": [
      "Happy New Year, Rohan\n",
      "Happy New Year, Sahil\n",
      "Happy New Year, Aman\n",
      "Done!\n"
     ]
    }
   ],
   "source": [
    "#Definite loop with string list\n",
    "friends = ['Rohan','Sahil','Aman']\n",
    "for friend in friends :\n",
    "    print(\"Happy New Year,\",friend)\n",
    "print(\"Done!\")"
   ]
  },
  {
   "cell_type": "code",
   "execution_count": 18,
   "metadata": {},
   "outputs": [
    {
     "name": "stdout",
     "output_type": "stream",
     "text": [
      "Largest Number is 74\n"
     ]
    }
   ],
   "source": [
    "#largest number\n",
    "largest = -1\n",
    "for num in [9,41,12,3,74,15]:\n",
    "    if(num > largest):\n",
    "        largest = num\n",
    "print(\"Largest Number is\",largest)"
   ]
  },
  {
   "cell_type": "code",
   "execution_count": 25,
   "metadata": {},
   "outputs": [
    {
     "name": "stdout",
     "output_type": "stream",
     "text": [
      "The smallest number is 3\n"
     ]
    }
   ],
   "source": [
    "#smallest number\n",
    "import sys\n",
    "smallest = sys.maxsize\n",
    "for num in [9,41,12,3,74,15,]:\n",
    "    if(num<smallest):\n",
    "        smallest = num\n",
    "print(\"The smallest number is\",smallest)"
   ]
  },
  {
   "cell_type": "code",
   "execution_count": 24,
   "metadata": {},
   "outputs": [
    {
     "name": "stdout",
     "output_type": "stream",
     "text": [
      "The Sum of number is 154\n"
     ]
    }
   ],
   "source": [
    "#Sum of list\n",
    "sum = 0\n",
    "for num in [9,41,12,3,74,15,]:\n",
    "    sum = sum + num\n",
    "print(\"The Sum of number is\",sum)"
   ]
  },
  {
   "cell_type": "code",
   "execution_count": 3,
   "metadata": {},
   "outputs": [
    {
     "name": "stdout",
     "output_type": "stream",
     "text": [
      "The average is25.67\n"
     ]
    }
   ],
   "source": [
    "avg = 0\n",
    "for num in [9,41,12,3,74,15,]:\n",
    "    avg = avg + num\n",
    "avg = avg / 6\n",
    "avg = round(avg,2)\n",
    "print(f\"The average is{avg}\")"
   ]
  }
 ],
 "metadata": {
  "kernelspec": {
   "display_name": "Python 3",
   "language": "python",
   "name": "python3"
  },
  "language_info": {
   "codemirror_mode": {
    "name": "ipython",
    "version": 3
   },
   "file_extension": ".py",
   "mimetype": "text/x-python",
   "name": "python",
   "nbconvert_exporter": "python",
   "pygments_lexer": "ipython3",
   "version": "3.12.4"
  }
 },
 "nbformat": 4,
 "nbformat_minor": 2
}
