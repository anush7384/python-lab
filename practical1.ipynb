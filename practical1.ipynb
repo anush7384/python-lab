{
 "cells": [
  {
   "cell_type": "code",
   "execution_count": 4,
   "metadata": {},
   "outputs": [
    {
     "name": "stdout",
     "output_type": "stream",
     "text": [
      "100.0kg is equal to 220.46lbs\n"
     ]
    }
   ],
   "source": [
    "wt_kg = float(input(\"Enter your weight in KG: \"))\n",
    "wt_lbs = wt_kg * 2.2046\n",
    "print(f\"{wt_kg}kg is equal to {wt_lbs}lbs\")"
   ]
  },
  {
   "cell_type": "code",
   "execution_count": 10,
   "metadata": {},
   "outputs": [
    {
     "name": "stdout",
     "output_type": "stream",
     "text": [
      "The circumference of circle with radius 10.0 is 62.8\n"
     ]
    }
   ],
   "source": [
    "pi = 3.14\n",
    "r = float(input(\"Enter the radius of circle\"))\n",
    "cf = 2 * pi * r\n",
    "cf = round(cf,3)\n",
    "print(f\"The circumference of circle with radius {r} is {cf}\")"
   ]
  },
  {
   "cell_type": "code",
   "execution_count": 12,
   "metadata": {},
   "outputs": [
    {
     "name": "stdout",
     "output_type": "stream",
     "text": [
      "2.0\n"
     ]
    }
   ],
   "source": [
    "a = 4\n",
    "b = a * 3\n",
    "b += 6\n",
    "b /= 3\n",
    "print(b-a)\n"
   ]
  }
 ],
 "metadata": {
  "kernelspec": {
   "display_name": "Python 3",
   "language": "python",
   "name": "python3"
  },
  "language_info": {
   "codemirror_mode": {
    "name": "ipython",
    "version": 3
   },
   "file_extension": ".py",
   "mimetype": "text/x-python",
   "name": "python",
   "nbconvert_exporter": "python",
   "pygments_lexer": "ipython3",
   "version": "3.12.4"
  }
 },
 "nbformat": 4,
 "nbformat_minor": 2
}
