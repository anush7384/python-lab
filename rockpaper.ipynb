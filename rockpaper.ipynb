{
 "cells": [
  {
   "cell_type": "markdown",
   "metadata": {},
   "source": []
  },
  {
   "cell_type": "code",
   "execution_count": 21,
   "metadata": {},
   "outputs": [
    {
     "name": "stdout",
     "output_type": "stream",
     "text": [
      "user: 1 vs computer: 3 USER WON\n"
     ]
    }
   ],
   "source": [
    "import random \n",
    "user = int(input(\"Enter 1 for Rock || 2 for paper || 3 for scissor:\"))\n",
    "\n",
    "com = random.randint(1,3)\n",
    "\n",
    "if user == com:\n",
    "    print(f\"user: {user} vs computer: {com} TIE\")\n",
    "elif user == 1 and com == 3:\n",
    "    print(f\"user: {user} vs computer: {com} USER WON\")\n",
    "elif user == 2 and com == 1:\n",
    "    print(f\"user: {user} vs computer: {com} USER WON\")\n",
    "elif user == 3 and com == 2:\n",
    "    print(f\"user: {user} vs computer: {com} USER WON\")\n",
    "else:\n",
    "    print(f\"user: {user} vs computer: {com} COMPUTER WON\")\n",
    "\n"
   ]
  }
 ],
 "metadata": {
  "kernelspec": {
   "display_name": "Python 3",
   "language": "python",
   "name": "python3"
  },
  "language_info": {
   "codemirror_mode": {
    "name": "ipython",
    "version": 3
   },
   "file_extension": ".py",
   "mimetype": "text/x-python",
   "name": "python",
   "nbconvert_exporter": "python",
   "pygments_lexer": "ipython3",
   "version": "3.12.4"
  }
 },
 "nbformat": 4,
 "nbformat_minor": 2
}
